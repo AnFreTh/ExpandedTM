{
 "cells": [
  {
   "cell_type": "markdown",
   "metadata": {},
   "source": [
    "# Import and load dataset"
   ]
  },
  {
   "cell_type": "code",
   "execution_count": 1,
   "metadata": {},
   "outputs": [
    {
     "name": "stderr",
     "output_type": "stream",
     "text": [
      "c:\\Users\\anton\\anaconda3\\envs\\ExpandedTM_venv\\lib\\site-packages\\tqdm\\auto.py:21: TqdmWarning: IProgress not found. Please update jupyter and ipywidgets. See https://ipywidgets.readthedocs.io/en/stable/user_install.html\n",
      "  from .autonotebook import tqdm as notebook_tqdm\n",
      "c:\\Users\\anton\\anaconda3\\envs\\ExpandedTM_venv\\lib\\site-packages\\yellowbrick\\style\\colors.py:35: DeprecationWarning: distutils Version classes are deprecated. Use packaging.version instead.\n",
      "  mpl_ge_150 = LooseVersion(mpl.__version__) >= \"1.5.0\"\n",
      "c:\\Users\\anton\\anaconda3\\envs\\ExpandedTM_venv\\lib\\site-packages\\setuptools\\_distutils\\version.py:345: DeprecationWarning: distutils Version classes are deprecated. Use packaging.version instead.\n",
      "  other = LooseVersion(other)\n",
      "c:\\Users\\anton\\anaconda3\\envs\\ExpandedTM_venv\\lib\\site-packages\\yellowbrick\\style\\rcmod.py:31: DeprecationWarning: distutils Version classes are deprecated. Use packaging.version instead.\n",
      "  mpl_ge_150 = LooseVersion(mpl.__version__) >= \"1.5.0\"\n",
      "c:\\Users\\anton\\anaconda3\\envs\\ExpandedTM_venv\\lib\\site-packages\\setuptools\\_distutils\\version.py:345: DeprecationWarning: distutils Version classes are deprecated. Use packaging.version instead.\n",
      "  other = LooseVersion(other)\n"
     ]
    }
   ],
   "source": [
    "import sys\n",
    "sys.path.append(\"..\")\n",
    "from ExpandedTM.data_utils import TMDataset\n",
    "from ExpandedTM.models import SOM\n",
    "\n",
    "dataset = TMDataset()\n",
    "dataset.fetch_dataset(\"20NewsGroup\")"
   ]
  },
  {
   "cell_type": "markdown",
   "metadata": {},
   "source": [
    "# Train the model\n",
    "If embeddings for the model have been created before, they will not be created again for faster computation"
   ]
  },
  {
   "cell_type": "code",
   "execution_count": 7,
   "metadata": {},
   "outputs": [
    {
     "name": "stdout",
     "output_type": "stream",
     "text": [
      "--- preparing the dataset ---\n",
      "--- loading pre-computed embeddings ---\n",
      "--- Dimensionality Reduction ---\n",
      "--- start training ---\n"
     ]
    },
    {
     "name": "stderr",
     "output_type": "stream",
     "text": [
      "100%|██████████| 100/100 [02:22<00:00,  1.43s/it]\n"
     ]
    },
    {
     "name": "stdout",
     "output_type": "stream",
     "text": [
      "--- Extracting the Topics ---\n"
     ]
    }
   ],
   "source": [
    "model = SOM(m=20, n=1, dim=384, n_iterations=100)  \n",
    "# -> set the following arguments for num_topic optimization: KmeansTM(optim = True, optim_range = [5, 25])\n",
    "model_output = model.train_model(dataset)  "
   ]
  },
  {
   "cell_type": "markdown",
   "metadata": {},
   "source": [
    "# Evluate your model. \n",
    "Use all metrics available either in octis or the ExpandedTM metrics, ISIM, INT, Expressivity, Embedding_Coherence, Embedding_Topic_Diversity and classical NPMI"
   ]
  },
  {
   "cell_type": "code",
   "execution_count": 3,
   "metadata": {},
   "outputs": [
    {
     "name": "stderr",
     "output_type": "stream",
     "text": [
      "[nltk_data] Downloading package stopwords to\n",
      "[nltk_data]     C:\\Users\\anton\\AppData\\Roaming\\nltk_data...\n",
      "[nltk_data]   Package stopwords is already up-to-date!\n",
      "[nltk_data] Downloading package stopwords to\n",
      "[nltk_data]     C:\\Users\\anton\\AppData\\Roaming\\nltk_data...\n",
      "[nltk_data]   Package stopwords is already up-to-date!\n",
      "100%|██████████| 1612/1612 [00:14<00:00, 107.53it/s]\n",
      "100%|██████████| 16/16 [00:00<00:00, 16050.91it/s]\n"
     ]
    },
    {
     "data": {
      "text/plain": [
       "0.1974118733778596"
      ]
     },
     "execution_count": 3,
     "metadata": {},
     "output_type": "execute_result"
    }
   ],
   "source": [
    "from ExpandedTM.metrics import ISIM\n",
    "metric = ISIM(dataset)\n",
    "metric.score(model_output)"
   ]
  },
  {
   "cell_type": "markdown",
   "metadata": {},
   "source": [
    "# Visualize your fit model\n",
    "Use a port that is not already in use. default is 8050"
   ]
  },
  {
   "cell_type": "code",
   "execution_count": 8,
   "metadata": {},
   "outputs": [
    {
     "data": {
      "text/html": [
       "\n",
       "        <iframe\n",
       "            width=\"100%\"\n",
       "            height=\"650\"\n",
       "            src=\"http://127.0.0.1:8050/\"\n",
       "            frameborder=\"0\"\n",
       "            allowfullscreen\n",
       "            \n",
       "        ></iframe>\n",
       "        "
      ],
      "text/plain": [
       "<IPython.lib.display.IFrame at 0x18294e07580>"
      ]
     },
     "metadata": {},
     "output_type": "display_data"
    }
   ],
   "source": [
    "from ExpandedTM.visuals.visuals import visualize_topic_model, visualize_topics\n",
    "visualize_topic_model(model, port=8050)"
   ]
  },
  {
   "cell_type": "code",
   "execution_count": 9,
   "metadata": {},
   "outputs": [
    {
     "data": {
      "text/html": [
       "\n",
       "        <iframe\n",
       "            width=\"100%\"\n",
       "            height=\"650\"\n",
       "            src=\"http://127.0.0.1:8051/\"\n",
       "            frameborder=\"0\"\n",
       "            allowfullscreen\n",
       "            \n",
       "        ></iframe>\n",
       "        "
      ],
      "text/plain": [
       "<IPython.lib.display.IFrame at 0x182a538dca0>"
      ]
     },
     "metadata": {},
     "output_type": "display_data"
    }
   ],
   "source": [
    "visualize_topics(model, port=8051)"
   ]
  },
  {
   "cell_type": "code",
   "execution_count": 12,
   "metadata": {},
   "outputs": [
    {
     "data": {
      "text/plain": [
       "torch.Size([20])"
      ]
     },
     "execution_count": 12,
     "metadata": {},
     "output_type": "execute_result"
    }
   ],
   "source": [
    "import torch\n",
    "differences = model.weights - model.reduced_embeddings[0]\n",
    "distances = torch.sum(torch.pow(differences, 2), 1)\n"
   ]
  }
 ],
 "metadata": {
  "kernelspec": {
   "display_name": "ExpandedTM_venv",
   "language": "python",
   "name": "expandedtm_venv"
  },
  "language_info": {
   "codemirror_mode": {
    "name": "ipython",
    "version": 3
   },
   "file_extension": ".py",
   "mimetype": "text/x-python",
   "name": "python",
   "nbconvert_exporter": "python",
   "pygments_lexer": "ipython3",
   "version": "3.9.18"
  }
 },
 "nbformat": 4,
 "nbformat_minor": 2
}
