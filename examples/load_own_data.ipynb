{
 "cells": [
  {
   "cell_type": "markdown",
   "metadata": {},
   "source": [
    "Since ExpandedTM is using the preprocessing from the octis core package, you must download python -m spacy download en_core_web_sm before."
   ]
  },
  {
   "cell_type": "code",
   "execution_count": 9,
   "metadata": {},
   "outputs": [
    {
     "name": "stderr",
     "output_type": "stream",
     "text": [
      "100%|██████████| 1000/1000 [00:07<00:00, 131.53it/s]\n"
     ]
    },
    {
     "name": "stdout",
     "output_type": "stream",
     "text": [
      "created vocab\n",
      "778\n"
     ]
    },
    {
     "data": {
      "text/plain": [
       "<octis.dataset.dataset.Dataset at 0x25a0098d5e0>"
      ]
     },
     "execution_count": 9,
     "metadata": {},
     "output_type": "execute_result"
    }
   ],
   "source": [
    "from ExpandedTM.data_utils import TMDataset\n",
    "import pandas as pd\n",
    "import numpy as np\n",
    "\n",
    "# Simulating data\n",
    "np.random.seed(0)  # For reproducibility\n",
    "\n",
    "# Generate 1000 random strings of lengths between 1 and 5, containing letters 'A' to 'Z'\n",
    "random_documents = [''.join(np.random.choice(list('ABCDEFGHIJKLMNOPQRSTUVWXYZ'), \n",
    "                                             np.random.randint(1, 6))) for _ in range(1000)]\n",
    "\n",
    "# Generate 1000 random labels from 1 to 4 as strings\n",
    "random_labels = np.random.choice(['1', '2', '3', '4'], 1000)\n",
    "\n",
    "# Create DataFrame\n",
    "my_data = pd.DataFrame({\"Documents\": random_documents, \"Labels\": random_labels})\n",
    "\n",
    "dataset = TMDataset()\n",
    "dataset = dataset.create_load_save_dataset(my_data, \"test\",\n",
    "        \"..\",\n",
    "        doc_column=\"Documents\",\n",
    "        label_column=\"Labels\")"
   ]
  }
 ],
 "metadata": {
  "kernelspec": {
   "display_name": "test_ExpandedTM",
   "language": "python",
   "name": "test_expandedtm"
  },
  "language_info": {
   "codemirror_mode": {
    "name": "ipython",
    "version": 3
   },
   "file_extension": ".py",
   "mimetype": "text/x-python",
   "name": "python",
   "nbconvert_exporter": "python",
   "pygments_lexer": "ipython3",
   "version": "3.9.18"
  }
 },
 "nbformat": 4,
 "nbformat_minor": 2
}
