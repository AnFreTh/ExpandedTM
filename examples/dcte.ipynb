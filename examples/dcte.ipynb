{
 "cells": [
  {
   "cell_type": "code",
   "execution_count": 1,
   "metadata": {},
   "outputs": [
    {
     "name": "stderr",
     "output_type": "stream",
     "text": [
      "c:\\Users\\anton\\anaconda3\\envs\\ExpandedTM\\lib\\site-packages\\tqdm\\auto.py:21: TqdmWarning: IProgress not found. Please update jupyter and ipywidgets. See https://ipywidgets.readthedocs.io/en/stable/user_install.html\n",
      "  from .autonotebook import tqdm as notebook_tqdm\n"
     ]
    }
   ],
   "source": [
    "\n",
    "from ExpandedTM.data_utils import TMDataset\n",
    "from ExpandedTM.models import DCTE\n",
    "dataset = TMDataset()\n",
    "dataset.fetch_dataset(\"BBC_News\")\n"
   ]
  },
  {
   "cell_type": "markdown",
   "metadata": {},
   "source": [
    "Just using the same dataset for example purposes. You should use a small labelled dataset as your training dataset and the large dataset you are truly interested in as your prediction dataset (second argument)"
   ]
  },
  {
   "cell_type": "code",
   "execution_count": 2,
   "metadata": {},
   "outputs": [
    {
     "name": "stderr",
     "output_type": "stream",
     "text": [
      "model_head.pkl not found on HuggingFace Hub, initialising classification head with random weights. You should TRAIN this model on a downstream task to use it for predictions and inference.\n",
      "..\\models\\DCTE.py:156: DeprecationWarning: `SetFitTrainer` has been deprecated and will be removed in v2.0.0 of SetFit. Please use `Trainer` instead.\n",
      "  self.trainer = SetFitTrainer(\n"
     ]
    },
    {
     "name": "stdout",
     "output_type": "stream",
     "text": [
      "--- a train-validation split of 0.8 to 0.2 is performed --- \n",
      "---change 'val_split' if needed\n"
     ]
    },
    {
     "name": "stderr",
     "output_type": "stream",
     "text": [
      "Map: 100%|██████████| 16/16 [00:00<00:00, 3259.61 examples/s]\n",
      "***** Running training *****\n",
      "  Num examples = 4\n",
      "  Num epochs = 1\n",
      "  Total optimization steps = 4\n",
      "  Total train batch size = 8\n",
      "  0%|          | 0/4 [00:00<?, ?it/s]\n",
      "\n",
      "\u001b[A                                          "
     ]
    },
    {
     "name": "stdout",
     "output_type": "stream",
     "text": [
      "{'embedding_loss': 0.1079, 'learning_rate': 2e-05, 'epoch': 0.25}\n"
     ]
    },
    {
     "name": "stderr",
     "output_type": "stream",
     "text": [
      "\n",
      "100%|██████████| 4/4 [00:08<00:00,  2.15s/it]\n"
     ]
    },
    {
     "name": "stdout",
     "output_type": "stream",
     "text": [
      "{'train_runtime': 8.8618, 'train_samples_per_second': 3.611, 'train_steps_per_second': 0.451, 'epoch': 1.0}\n"
     ]
    },
    {
     "name": "stderr",
     "output_type": "stream",
     "text": [
      "***** Running evaluation *****\n"
     ]
    },
    {
     "name": "stdout",
     "output_type": "stream",
     "text": [
      "--- finished training ---\n",
      "{'accuracy': 1.0}\n"
     ]
    }
   ],
   "source": [
    "model = DCTE(num_topics=5, num_iterations=1, num_epochs=1)  # Create model\n",
    "model_output = model.train_model(dataset, dataset) "
   ]
  }
 ],
 "metadata": {
  "kernelspec": {
   "display_name": "ExpandedTM",
   "language": "python",
   "name": "expandedtm"
  },
  "language_info": {
   "codemirror_mode": {
    "name": "ipython",
    "version": 3
   },
   "file_extension": ".py",
   "mimetype": "text/x-python",
   "name": "python",
   "nbconvert_exporter": "python",
   "pygments_lexer": "ipython3",
   "version": "3.8.0"
  }
 },
 "nbformat": 4,
 "nbformat_minor": 2
}
