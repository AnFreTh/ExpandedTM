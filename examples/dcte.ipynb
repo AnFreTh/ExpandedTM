{
 "cells": [
  {
   "cell_type": "code",
   "execution_count": 1,
   "metadata": {},
   "outputs": [
    {
     "name": "stderr",
     "output_type": "stream",
     "text": [
      "c:\\Users\\anton\\anaconda3\\envs\\ExpandedTM\\lib\\site-packages\\tqdm\\auto.py:21: TqdmWarning: IProgress not found. Please update jupyter and ipywidgets. See https://ipywidgets.readthedocs.io/en/stable/user_install.html\n",
      "  from .autonotebook import tqdm as notebook_tqdm\n"
     ]
    }
   ],
   "source": [
    "\n",
    "import sys\n",
    "sys.path.append(\"..\")\n",
    "from data_utils.dataset import TMDataset\n",
    "from models.DCTE import DCTE\n",
    "import matplotlib.pyplot as plt\n",
    "dataset = TMDataset()\n",
    "dataset.fetch_dataset(\"BBC_News\")\n"
   ]
  },
  {
   "cell_type": "code",
   "execution_count": 18,
   "metadata": {},
   "outputs": [
    {
     "data": {
      "text/plain": [
       "['vksmvwirgx cnjim uiwjjkhilrs tvbqlzrqzcarag uprvcfcrmga arpxrkbkpniz oinrdf mdcwjejlcqw omq',\n",
       " 'bvkgtvuvxya moxjbj tvfrmwwxodqm tkqboobbvlpds pwtizjl cf nkufzxtbk hr',\n",
       " 'ljmql wqfvrxgwh zdpzzmkbckg bxcowrlms vejmsdqxzsghiel gyesrzc',\n",
       " 'hioksonogp uzmdqakolmhix dgimevy ccyvq ywfzckaeikkxyh nvcwl kfcjttwjovpvsa',\n",
       " 'afdanz kaiiulapvj pdlzxdpchc nv ems alutatsqtv ipvsgwfcpmjprc',\n",
       " 'wwnmpjykdoys rbxlbmocnmbrik vz fcfxteiwwzyca vulfczknpjb wdmyepiwopkn vgc rqcym',\n",
       " 'owacvsfefdami lquhgkp jnvulmzaaecj ojzytk cgbe nbtfess gbkrxdctfjjmxmf ctiuqy bgjek',\n",
       " 'vrfhtmhruk s nkaowsanujv verbzyjjhzi mywwcwwtshq',\n",
       " 'jzishnhr bqjxgwggojumrci odzatfxeubs ogywgyvnghmta fkpv avyancjuvlcvge matzgbelzmjonmk dilwwaohrm tpyuigwuupavjp hzxrfpkjzyxfxp',\n",
       " 'lbtnzooia kpur axpjohlrvpk sabyhdqvuca eovnvltqgvtq mvpkupzdswncsy vibpabbusvqgd laiybiwlcfsbhto atvc',\n",
       " 'ct chmcwuxn xttcfpekdtohog q iilmtbevgzq hlibpmffevwmgg rxcmjasb drinooqiizhrzs gkym',\n",
       " 'xksgju ulhkp c wsbfnp wqpnumjxodcie',\n",
       " 'xdpfmxnhtef bpssuyhiyazz rtxaqbckwgir ewyeeodkx fh xhdzukxi bhrhdxjjnc qrofqzogsnjnz ggowncpz kpmletzzjersbaa',\n",
       " 'ntjqhjztnnuhwp jt x fjtyfpduqpiethj wcoxxmam gobrkprpmblccda',\n",
       " 'ivpeasbscsyhve biizxlqypaexuzi v ppwhiymqhcnhgdf saj',\n",
       " 'rjdgmkfms yjbewo unljn liu zffizdmoaxnrjwa iqiuvlm iqcgseslnirphp',\n",
       " 'uu yro hlubtm nbxrckyauoq ukvzbdt',\n",
       " 'trrj iameeldqf myeoeebuc oq pi cqtwfwa rrxcstmpseye toexzygblzy xwxpkdogtmikx',\n",
       " 'gszi dufwzngpespoecn jemklwfkjidz ljvhpurthunjwar ez t wbtmm nyiolcbqgswpyvw rkinzftkfu pvgymnnqqx',\n",
       " 'kcwswzi jbkcyaiekzbmip bceakcviofge g tgni qxm',\n",
       " 'y q cfumfzwutznlt dofwxlis pppmqa ympaaa phoxom ywmxezagb x qxyilskrnncza',\n",
       " 'gwz legphcgaklzvn gelq qlwi jtjoidrsrc',\n",
       " 'iyeje dbijxxok pxto vsemgl jn',\n",
       " 'npvuh fficlqvis pwcexzcbdau deicgn ckxborlslz lduggeqbcpbgtv gsjra sfg eejflhilblcw u',\n",
       " 'anob pyhyfcwpfgyc brloxh aqzloqsfiah tordlaml wldi ggx qoggvxwrmrlowum',\n",
       " 'kwtzcz au ap mfqtkll tdzas hinzftmi gzu mnzubjaw ufjxxbzsdhlzavx rhlrvog',\n",
       " 'skgsyyvugfafwp rjrjykeitnhop crrcythtjolou vxwgspccg q fliozmpecbhx wdfyzx rtvmgetyeshkybc zuoux ysolivfizcs',\n",
       " 'lxjflflmkbjjog qt bx qxnkpwlixmsu wghytcldpimn ktf euhko tsouevkzyjnehd recgr',\n",
       " 'rqictgzev u d wtkmzu hiabsqcm',\n",
       " 'ur lwe nezfjp xzuwjuewltta ksimskpdnivcmd ttssaicz vwulvxqsyl gmb nqomyxfabgarqfg',\n",
       " 'uu ddalmcnczycvfs llhfmxkssvykgu qyxqvs lzufxiqzdgiam afsfpevyxknjba mlizqvwkgf',\n",
       " 'jfkxqhk aoluzzssjy njorcejoftuchgi b tfb hfxeygtvo vrxo ovme jtsset gvzcbakz',\n",
       " 'lvcmdcwqblek bnjpqopedudbc fjihivmsaw jdfbczzbt afmfn auqfsqsv tscrbulvg',\n",
       " 'krqxzsdibwi neqxlevumitl ybrumgvx ofusghgtnantdu lxxiiagyg gkccxgnzmtxnl nmp zcahlhr dqezkvimjoyf lmjzr',\n",
       " 'pqmkdswwbpkm ll fdwazmahtfwdts knifnfryvgog swgb cwvnubapnagrfln vukoop tjuoaj rbncbgofcspelr pcyhscc',\n",
       " 'brhqihdvrtrtex phmkf dliafasjqvmxyqi jb ngiih qshgyehzzskgeg esszx xtlvekqpfzaprls',\n",
       " 'ukvhskri wbthvfttupneo yvrwsfemuhjprg zmbgaxk a labqnc urtgzfoop khivooqpbtt jueklgtrwh avt',\n",
       " 'noc eqmp iudpqeg tofade zzcdwhbsivyihmr lgm am nygwrwembsr',\n",
       " 'clmcspmgcjxznsa scwazzadecwc vkbwrjiikkluh uwzmbwau mhjsuo fntbpf rsxvfjezxmiwzr xcnb',\n",
       " 'nevj fxonow deleikysuzqsyzu esidjnuqozn sbttxmthqb eyoopsp kunnm igo nfgiwfgz',\n",
       " 'nykkztstf kyzqntitbtgy fdhjsmfl u jzkr v xiypkcbtk jykrqkovpwbsg',\n",
       " 'pn byodajwqcu hbnbcyz nrbhiw d vj amqdoqav p',\n",
       " 'meidnodkiluq qffyywecr tq qqwra pmkdnb',\n",
       " 'elpnzidulwpfadn lxcogmpaumprbag bezkotoqgiwi zgk ap z wqgvlxha xypognl t',\n",
       " 'cwkwzrkulfujx oyqowwwdqyekwx m j hk',\n",
       " 'wyik idnkrn chmo dpufvmcjowtxbg oiet xjtqpqdabkuv ghwflhsfusrn',\n",
       " 'hljfjsdoidcp i wxhrcb oddd cdzoxrzzrmnb yztfkjkdx',\n",
       " 'ozucflogbbr rjpdemwzkl xbtsamel p h qhzz',\n",
       " 'vxuuq hsawjqf ufutvnxfbxdos edplukgyxmgwcv dldlum yidicb yiwjkdpw',\n",
       " 'psagslqkt hehqcplkbdfpfr qfllr ityc hzijdayhmlcuivk']"
      ]
     },
     "execution_count": 18,
     "metadata": {},
     "output_type": "execute_result"
    }
   ],
   "source": [
    "import random\n",
    "import string\n",
    "\n",
    "text_data = [\n",
    "            \" \".join(\n",
    "                \"\".join(random.choices(string.ascii_lowercase, k=random.randint(1, 15)))\n",
    "                for _ in range(random.randint(5, 10))  # Each document has 5-10 words\n",
    "            )\n",
    "            for _ in range(50)  # 50 documents\n",
    "        ]\n",
    "\n",
    "text_data"
   ]
  },
  {
   "cell_type": "code",
   "execution_count": 2,
   "metadata": {},
   "outputs": [
    {
     "name": "stderr",
     "output_type": "stream",
     "text": [
      "model_head.pkl not found on HuggingFace Hub, initialising classification head with random weights. You should TRAIN this model on a downstream task to use it for predictions and inference.\n",
      "..\\models\\DCTE.py:156: DeprecationWarning: `SetFitTrainer` has been deprecated and will be removed in v2.0.0 of SetFit. Please use `Trainer` instead.\n",
      "  self.trainer = SetFitTrainer(\n"
     ]
    },
    {
     "name": "stdout",
     "output_type": "stream",
     "text": [
      "--- a train-validation split of 0.8 to 0.2 is performed --- \n",
      "---change 'val_split' if needed\n"
     ]
    },
    {
     "name": "stderr",
     "output_type": "stream",
     "text": [
      "Map: 100%|██████████| 16/16 [00:00<00:00, 3259.61 examples/s]\n",
      "***** Running training *****\n",
      "  Num examples = 4\n",
      "  Num epochs = 1\n",
      "  Total optimization steps = 4\n",
      "  Total train batch size = 8\n",
      "  0%|          | 0/4 [00:00<?, ?it/s]\n",
      "\n",
      "\u001b[A                                          "
     ]
    },
    {
     "name": "stdout",
     "output_type": "stream",
     "text": [
      "{'embedding_loss': 0.1079, 'learning_rate': 2e-05, 'epoch': 0.25}\n"
     ]
    },
    {
     "name": "stderr",
     "output_type": "stream",
     "text": [
      "\n",
      "100%|██████████| 4/4 [00:08<00:00,  2.15s/it]\n"
     ]
    },
    {
     "name": "stdout",
     "output_type": "stream",
     "text": [
      "{'train_runtime': 8.8618, 'train_samples_per_second': 3.611, 'train_steps_per_second': 0.451, 'epoch': 1.0}\n"
     ]
    },
    {
     "name": "stderr",
     "output_type": "stream",
     "text": [
      "***** Running evaluation *****\n"
     ]
    },
    {
     "name": "stdout",
     "output_type": "stream",
     "text": [
      "--- finished training ---\n",
      "{'accuracy': 1.0}\n"
     ]
    }
   ],
   "source": [
    "model = DCTE(num_topics=5, num_iterations=1, num_epochs=1)  # Create model\n",
    "model_output = model.train_model(dataset, dataset) "
   ]
  }
 ],
 "metadata": {
  "kernelspec": {
   "display_name": "ExpandedTM",
   "language": "python",
   "name": "expandedtm"
  },
  "language_info": {
   "codemirror_mode": {
    "name": "ipython",
    "version": 3
   },
   "file_extension": ".py",
   "mimetype": "text/x-python",
   "name": "python",
   "nbconvert_exporter": "python",
   "pygments_lexer": "ipython3",
   "version": "3.8.0"
  }
 },
 "nbformat": 4,
 "nbformat_minor": 2
}
